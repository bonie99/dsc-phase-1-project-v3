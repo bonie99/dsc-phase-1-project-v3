{
 "cells": [
  {
   "cell_type": "markdown",
   "metadata": {},
   "source": [
    "## Final Project Submission\n",
    "\n",
    "Please fill out:\n",
    "* Student name: Boniface Ngechu\n",
    "* Student pace: full time \n",
    "* Instructor name:MaryAnn Mwikali \n",
    "* Blog post URL:\n"
   ]
  },
  {
   "cell_type": "markdown",
   "metadata": {},
   "source": [
    "**INTRODUCTION.**  \n",
    "The aircraft industry offers a variety of options in terms of dimensions, functionality, cost, and safety. This analysis focuses on examining the safety and overall reliability of different aircraft by analyzing accident data from the Aviation Data.csv file."
   ]
  },
  {
   "cell_type": "markdown",
   "metadata": {},
   "source": [
    "# Business Understanding\n",
    "problem statemeny:\n",
    "\n",
    "The goal is to identify the least risky aircraft for the company’s new venture, while ensuring it is launched at a competitive and reasonable price. This will help facilitate a successful entry into the market.\n",
    "\n",
    "Key Stakeholders:\n",
    "Stakeholders will come from a wide range.\n",
    "\n",
    "Internal: Company stakeholders, potential investors\n",
    "External: Government regulations, competitors (other airline companies), customers\n",
    "Responsibility:\n",
    "Successfully adapting to the aviation industry and selecting aircraft with the lowest risk.\n",
    "\n",
    "Resources:\n",
    "Industry reports, financial budget, aircraft safety data, and expert consultations.\n",
    "\n",
    "Risks:\n",
    "Potential for financial losses and safety incidents related to accidents. "
   ]
  },
  {
   "cell_type": "markdown",
   "metadata": {},
   "source": [
    "## Project Goal\n",
    "\n",
    "The aim of my project is to identify the types of aircraft commonly used in business and private enterprises, and to determine  number of engines and weather conditions are more prone to accidents . I also seek to understand the nature of accidents."
   ]
  },
  {
   "cell_type": "markdown",
   "metadata": {},
   "source": [
    "### Data Understanding\n",
    "\n",
    "My project have information that has previously been collected by varius data scientists. The data is stored in **Kaggle** whereby it is uptated reguraly, and is stored in a **csv format**. When I read the data to my notebook using pandas library, I get a dataframe with 90348 rows and 31 columns. From a brief look at the dataframe, we realize that the information we are dealing with is from investigation of aircraft accidents. "
   ]
  },
  {
   "cell_type": "code",
   "execution_count": 50,
   "metadata": {},
   "outputs": [],
   "source": [
    "#importing of necessary packages.\n",
    "import pandas as pd\n",
    "import numpy as np\n",
    "import seaborn as sns\n",
    "import matplotlib.pyplot as plt\n",
    "%matplotlib inline\n",
    "sns.set(style='darkgrid')"
   ]
  },
  {
   "cell_type": "code",
   "execution_count": 51,
   "metadata": {},
   "outputs": [
    {
     "data": {
      "text/html": [
       "<div>\n",
       "<style scoped>\n",
       "    .dataframe tbody tr th:only-of-type {\n",
       "        vertical-align: middle;\n",
       "    }\n",
       "\n",
       "    .dataframe tbody tr th {\n",
       "        vertical-align: top;\n",
       "    }\n",
       "\n",
       "    .dataframe thead th {\n",
       "        text-align: right;\n",
       "    }\n",
       "</style>\n",
       "<table border=\"1\" class=\"dataframe\">\n",
       "  <thead>\n",
       "    <tr style=\"text-align: right;\">\n",
       "      <th></th>\n",
       "      <th>Event.Id</th>\n",
       "      <th>Investigation.Type</th>\n",
       "      <th>Accident.Number</th>\n",
       "      <th>Event.Date</th>\n",
       "      <th>Location</th>\n",
       "      <th>Country</th>\n",
       "      <th>Latitude</th>\n",
       "      <th>Longitude</th>\n",
       "      <th>Airport.Code</th>\n",
       "      <th>Airport.Name</th>\n",
       "      <th>...</th>\n",
       "      <th>Purpose.of.flight</th>\n",
       "      <th>Air.carrier</th>\n",
       "      <th>Total.Fatal.Injuries</th>\n",
       "      <th>Total.Serious.Injuries</th>\n",
       "      <th>Total.Minor.Injuries</th>\n",
       "      <th>Total.Uninjured</th>\n",
       "      <th>Weather.Condition</th>\n",
       "      <th>Broad.phase.of.flight</th>\n",
       "      <th>Report.Status</th>\n",
       "      <th>Publication.Date</th>\n",
       "    </tr>\n",
       "  </thead>\n",
       "  <tbody>\n",
       "    <tr>\n",
       "      <th>0</th>\n",
       "      <td>20001218X45444</td>\n",
       "      <td>Accident</td>\n",
       "      <td>SEA87LA080</td>\n",
       "      <td>1948-10-24</td>\n",
       "      <td>MOOSE CREEK, ID</td>\n",
       "      <td>United States</td>\n",
       "      <td>NaN</td>\n",
       "      <td>NaN</td>\n",
       "      <td>NaN</td>\n",
       "      <td>NaN</td>\n",
       "      <td>...</td>\n",
       "      <td>Personal</td>\n",
       "      <td>NaN</td>\n",
       "      <td>2.0</td>\n",
       "      <td>0.0</td>\n",
       "      <td>0.0</td>\n",
       "      <td>0.0</td>\n",
       "      <td>UNK</td>\n",
       "      <td>Cruise</td>\n",
       "      <td>Probable Cause</td>\n",
       "      <td>NaN</td>\n",
       "    </tr>\n",
       "    <tr>\n",
       "      <th>1</th>\n",
       "      <td>20001218X45447</td>\n",
       "      <td>Accident</td>\n",
       "      <td>LAX94LA336</td>\n",
       "      <td>1962-07-19</td>\n",
       "      <td>BRIDGEPORT, CA</td>\n",
       "      <td>United States</td>\n",
       "      <td>NaN</td>\n",
       "      <td>NaN</td>\n",
       "      <td>NaN</td>\n",
       "      <td>NaN</td>\n",
       "      <td>...</td>\n",
       "      <td>Personal</td>\n",
       "      <td>NaN</td>\n",
       "      <td>4.0</td>\n",
       "      <td>0.0</td>\n",
       "      <td>0.0</td>\n",
       "      <td>0.0</td>\n",
       "      <td>UNK</td>\n",
       "      <td>Unknown</td>\n",
       "      <td>Probable Cause</td>\n",
       "      <td>19-09-1996</td>\n",
       "    </tr>\n",
       "    <tr>\n",
       "      <th>2</th>\n",
       "      <td>20061025X01555</td>\n",
       "      <td>Accident</td>\n",
       "      <td>NYC07LA005</td>\n",
       "      <td>1974-08-30</td>\n",
       "      <td>Saltville, VA</td>\n",
       "      <td>United States</td>\n",
       "      <td>36.922223</td>\n",
       "      <td>-81.878056</td>\n",
       "      <td>NaN</td>\n",
       "      <td>NaN</td>\n",
       "      <td>...</td>\n",
       "      <td>Personal</td>\n",
       "      <td>NaN</td>\n",
       "      <td>3.0</td>\n",
       "      <td>NaN</td>\n",
       "      <td>NaN</td>\n",
       "      <td>NaN</td>\n",
       "      <td>IMC</td>\n",
       "      <td>Cruise</td>\n",
       "      <td>Probable Cause</td>\n",
       "      <td>26-02-2007</td>\n",
       "    </tr>\n",
       "    <tr>\n",
       "      <th>3</th>\n",
       "      <td>20001218X45448</td>\n",
       "      <td>Accident</td>\n",
       "      <td>LAX96LA321</td>\n",
       "      <td>1977-06-19</td>\n",
       "      <td>EUREKA, CA</td>\n",
       "      <td>United States</td>\n",
       "      <td>NaN</td>\n",
       "      <td>NaN</td>\n",
       "      <td>NaN</td>\n",
       "      <td>NaN</td>\n",
       "      <td>...</td>\n",
       "      <td>Personal</td>\n",
       "      <td>NaN</td>\n",
       "      <td>2.0</td>\n",
       "      <td>0.0</td>\n",
       "      <td>0.0</td>\n",
       "      <td>0.0</td>\n",
       "      <td>IMC</td>\n",
       "      <td>Cruise</td>\n",
       "      <td>Probable Cause</td>\n",
       "      <td>12-09-2000</td>\n",
       "    </tr>\n",
       "    <tr>\n",
       "      <th>4</th>\n",
       "      <td>20041105X01764</td>\n",
       "      <td>Accident</td>\n",
       "      <td>CHI79FA064</td>\n",
       "      <td>1979-08-02</td>\n",
       "      <td>Canton, OH</td>\n",
       "      <td>United States</td>\n",
       "      <td>NaN</td>\n",
       "      <td>NaN</td>\n",
       "      <td>NaN</td>\n",
       "      <td>NaN</td>\n",
       "      <td>...</td>\n",
       "      <td>Personal</td>\n",
       "      <td>NaN</td>\n",
       "      <td>1.0</td>\n",
       "      <td>2.0</td>\n",
       "      <td>NaN</td>\n",
       "      <td>0.0</td>\n",
       "      <td>VMC</td>\n",
       "      <td>Approach</td>\n",
       "      <td>Probable Cause</td>\n",
       "      <td>16-04-1980</td>\n",
       "    </tr>\n",
       "    <tr>\n",
       "      <th>...</th>\n",
       "      <td>...</td>\n",
       "      <td>...</td>\n",
       "      <td>...</td>\n",
       "      <td>...</td>\n",
       "      <td>...</td>\n",
       "      <td>...</td>\n",
       "      <td>...</td>\n",
       "      <td>...</td>\n",
       "      <td>...</td>\n",
       "      <td>...</td>\n",
       "      <td>...</td>\n",
       "      <td>...</td>\n",
       "      <td>...</td>\n",
       "      <td>...</td>\n",
       "      <td>...</td>\n",
       "      <td>...</td>\n",
       "      <td>...</td>\n",
       "      <td>...</td>\n",
       "      <td>...</td>\n",
       "      <td>...</td>\n",
       "      <td>...</td>\n",
       "    </tr>\n",
       "    <tr>\n",
       "      <th>90343</th>\n",
       "      <td>20221227106491</td>\n",
       "      <td>Accident</td>\n",
       "      <td>ERA23LA093</td>\n",
       "      <td>2022-12-26</td>\n",
       "      <td>Annapolis, MD</td>\n",
       "      <td>United States</td>\n",
       "      <td>NaN</td>\n",
       "      <td>NaN</td>\n",
       "      <td>NaN</td>\n",
       "      <td>NaN</td>\n",
       "      <td>...</td>\n",
       "      <td>Personal</td>\n",
       "      <td>NaN</td>\n",
       "      <td>0.0</td>\n",
       "      <td>1.0</td>\n",
       "      <td>0.0</td>\n",
       "      <td>0.0</td>\n",
       "      <td>NaN</td>\n",
       "      <td>NaN</td>\n",
       "      <td>NaN</td>\n",
       "      <td>29-12-2022</td>\n",
       "    </tr>\n",
       "    <tr>\n",
       "      <th>90344</th>\n",
       "      <td>20221227106494</td>\n",
       "      <td>Accident</td>\n",
       "      <td>ERA23LA095</td>\n",
       "      <td>2022-12-26</td>\n",
       "      <td>Hampton, NH</td>\n",
       "      <td>United States</td>\n",
       "      <td>NaN</td>\n",
       "      <td>NaN</td>\n",
       "      <td>NaN</td>\n",
       "      <td>NaN</td>\n",
       "      <td>...</td>\n",
       "      <td>NaN</td>\n",
       "      <td>NaN</td>\n",
       "      <td>0.0</td>\n",
       "      <td>0.0</td>\n",
       "      <td>0.0</td>\n",
       "      <td>0.0</td>\n",
       "      <td>NaN</td>\n",
       "      <td>NaN</td>\n",
       "      <td>NaN</td>\n",
       "      <td>NaN</td>\n",
       "    </tr>\n",
       "    <tr>\n",
       "      <th>90345</th>\n",
       "      <td>20221227106497</td>\n",
       "      <td>Accident</td>\n",
       "      <td>WPR23LA075</td>\n",
       "      <td>2022-12-26</td>\n",
       "      <td>Payson, AZ</td>\n",
       "      <td>United States</td>\n",
       "      <td>341525N</td>\n",
       "      <td>1112021W</td>\n",
       "      <td>PAN</td>\n",
       "      <td>PAYSON</td>\n",
       "      <td>...</td>\n",
       "      <td>Personal</td>\n",
       "      <td>NaN</td>\n",
       "      <td>0.0</td>\n",
       "      <td>0.0</td>\n",
       "      <td>0.0</td>\n",
       "      <td>1.0</td>\n",
       "      <td>VMC</td>\n",
       "      <td>NaN</td>\n",
       "      <td>NaN</td>\n",
       "      <td>27-12-2022</td>\n",
       "    </tr>\n",
       "    <tr>\n",
       "      <th>90346</th>\n",
       "      <td>20221227106498</td>\n",
       "      <td>Accident</td>\n",
       "      <td>WPR23LA076</td>\n",
       "      <td>2022-12-26</td>\n",
       "      <td>Morgan, UT</td>\n",
       "      <td>United States</td>\n",
       "      <td>NaN</td>\n",
       "      <td>NaN</td>\n",
       "      <td>NaN</td>\n",
       "      <td>NaN</td>\n",
       "      <td>...</td>\n",
       "      <td>Personal</td>\n",
       "      <td>MC CESSNA 210N LLC</td>\n",
       "      <td>0.0</td>\n",
       "      <td>0.0</td>\n",
       "      <td>0.0</td>\n",
       "      <td>0.0</td>\n",
       "      <td>NaN</td>\n",
       "      <td>NaN</td>\n",
       "      <td>NaN</td>\n",
       "      <td>NaN</td>\n",
       "    </tr>\n",
       "    <tr>\n",
       "      <th>90347</th>\n",
       "      <td>20221230106513</td>\n",
       "      <td>Accident</td>\n",
       "      <td>ERA23LA097</td>\n",
       "      <td>2022-12-29</td>\n",
       "      <td>Athens, GA</td>\n",
       "      <td>United States</td>\n",
       "      <td>NaN</td>\n",
       "      <td>NaN</td>\n",
       "      <td>NaN</td>\n",
       "      <td>NaN</td>\n",
       "      <td>...</td>\n",
       "      <td>Personal</td>\n",
       "      <td>NaN</td>\n",
       "      <td>0.0</td>\n",
       "      <td>1.0</td>\n",
       "      <td>0.0</td>\n",
       "      <td>1.0</td>\n",
       "      <td>NaN</td>\n",
       "      <td>NaN</td>\n",
       "      <td>NaN</td>\n",
       "      <td>30-12-2022</td>\n",
       "    </tr>\n",
       "  </tbody>\n",
       "</table>\n",
       "<p>90348 rows × 31 columns</p>\n",
       "</div>"
      ],
      "text/plain": [
       "             Event.Id Investigation.Type Accident.Number  Event.Date  \\\n",
       "0      20001218X45444           Accident      SEA87LA080  1948-10-24   \n",
       "1      20001218X45447           Accident      LAX94LA336  1962-07-19   \n",
       "2      20061025X01555           Accident      NYC07LA005  1974-08-30   \n",
       "3      20001218X45448           Accident      LAX96LA321  1977-06-19   \n",
       "4      20041105X01764           Accident      CHI79FA064  1979-08-02   \n",
       "...               ...                ...             ...         ...   \n",
       "90343  20221227106491           Accident      ERA23LA093  2022-12-26   \n",
       "90344  20221227106494           Accident      ERA23LA095  2022-12-26   \n",
       "90345  20221227106497           Accident      WPR23LA075  2022-12-26   \n",
       "90346  20221227106498           Accident      WPR23LA076  2022-12-26   \n",
       "90347  20221230106513           Accident      ERA23LA097  2022-12-29   \n",
       "\n",
       "              Location        Country   Latitude   Longitude Airport.Code  \\\n",
       "0      MOOSE CREEK, ID  United States        NaN         NaN          NaN   \n",
       "1       BRIDGEPORT, CA  United States        NaN         NaN          NaN   \n",
       "2        Saltville, VA  United States  36.922223  -81.878056          NaN   \n",
       "3           EUREKA, CA  United States        NaN         NaN          NaN   \n",
       "4           Canton, OH  United States        NaN         NaN          NaN   \n",
       "...                ...            ...        ...         ...          ...   \n",
       "90343    Annapolis, MD  United States        NaN         NaN          NaN   \n",
       "90344      Hampton, NH  United States        NaN         NaN          NaN   \n",
       "90345       Payson, AZ  United States    341525N    1112021W          PAN   \n",
       "90346       Morgan, UT  United States        NaN         NaN          NaN   \n",
       "90347       Athens, GA  United States        NaN         NaN          NaN   \n",
       "\n",
       "      Airport.Name  ... Purpose.of.flight         Air.carrier  \\\n",
       "0              NaN  ...          Personal                 NaN   \n",
       "1              NaN  ...          Personal                 NaN   \n",
       "2              NaN  ...          Personal                 NaN   \n",
       "3              NaN  ...          Personal                 NaN   \n",
       "4              NaN  ...          Personal                 NaN   \n",
       "...            ...  ...               ...                 ...   \n",
       "90343          NaN  ...          Personal                 NaN   \n",
       "90344          NaN  ...               NaN                 NaN   \n",
       "90345       PAYSON  ...          Personal                 NaN   \n",
       "90346          NaN  ...          Personal  MC CESSNA 210N LLC   \n",
       "90347          NaN  ...          Personal                 NaN   \n",
       "\n",
       "      Total.Fatal.Injuries Total.Serious.Injuries Total.Minor.Injuries  \\\n",
       "0                      2.0                    0.0                  0.0   \n",
       "1                      4.0                    0.0                  0.0   \n",
       "2                      3.0                    NaN                  NaN   \n",
       "3                      2.0                    0.0                  0.0   \n",
       "4                      1.0                    2.0                  NaN   \n",
       "...                    ...                    ...                  ...   \n",
       "90343                  0.0                    1.0                  0.0   \n",
       "90344                  0.0                    0.0                  0.0   \n",
       "90345                  0.0                    0.0                  0.0   \n",
       "90346                  0.0                    0.0                  0.0   \n",
       "90347                  0.0                    1.0                  0.0   \n",
       "\n",
       "      Total.Uninjured Weather.Condition  Broad.phase.of.flight  \\\n",
       "0                 0.0               UNK                 Cruise   \n",
       "1                 0.0               UNK                Unknown   \n",
       "2                 NaN               IMC                 Cruise   \n",
       "3                 0.0               IMC                 Cruise   \n",
       "4                 0.0               VMC               Approach   \n",
       "...               ...               ...                    ...   \n",
       "90343             0.0               NaN                    NaN   \n",
       "90344             0.0               NaN                    NaN   \n",
       "90345             1.0               VMC                    NaN   \n",
       "90346             0.0               NaN                    NaN   \n",
       "90347             1.0               NaN                    NaN   \n",
       "\n",
       "        Report.Status Publication.Date  \n",
       "0      Probable Cause              NaN  \n",
       "1      Probable Cause       19-09-1996  \n",
       "2      Probable Cause       26-02-2007  \n",
       "3      Probable Cause       12-09-2000  \n",
       "4      Probable Cause       16-04-1980  \n",
       "...               ...              ...  \n",
       "90343             NaN       29-12-2022  \n",
       "90344             NaN              NaN  \n",
       "90345             NaN       27-12-2022  \n",
       "90346             NaN              NaN  \n",
       "90347             NaN       30-12-2022  \n",
       "\n",
       "[90348 rows x 31 columns]"
      ]
     },
     "execution_count": 51,
     "metadata": {},
     "output_type": "execute_result"
    }
   ],
   "source": [
    "#Load and print head of Aviation Datasets ('AviationData.csv', 'USState_Codes.csv')\n",
    "\n",
    "df = pd.read_csv('data/Aviation_Data.csv', low_memory=False)\n",
    "\n",
    "df"
   ]
  },
  {
   "cell_type": "code",
   "execution_count": 52,
   "metadata": {},
   "outputs": [
    {
     "data": {
      "text/plain": [
       "(90348, 31)"
      ]
     },
     "execution_count": 52,
     "metadata": {},
     "output_type": "execute_result"
    }
   ],
   "source": [
    "# Explore the shape of the dataset\n",
    "\n",
    "df.shape"
   ]
  },
  {
   "cell_type": "code",
   "execution_count": 53,
   "metadata": {},
   "outputs": [
    {
     "data": {
      "text/plain": [
       "Index(['Event.Id', 'Investigation.Type', 'Accident.Number', 'Event.Date',\n",
       "       'Location', 'Country', 'Latitude', 'Longitude', 'Airport.Code',\n",
       "       'Airport.Name', 'Injury.Severity', 'Aircraft.damage',\n",
       "       'Aircraft.Category', 'Registration.Number', 'Make', 'Model',\n",
       "       'Amateur.Built', 'Number.of.Engines', 'Engine.Type', 'FAR.Description',\n",
       "       'Schedule', 'Purpose.of.flight', 'Air.carrier', 'Total.Fatal.Injuries',\n",
       "       'Total.Serious.Injuries', 'Total.Minor.Injuries', 'Total.Uninjured',\n",
       "       'Weather.Condition', 'Broad.phase.of.flight', 'Report.Status',\n",
       "       'Publication.Date'],\n",
       "      dtype='object')"
      ]
     },
     "execution_count": 53,
     "metadata": {},
     "output_type": "execute_result"
    }
   ],
   "source": [
    "# Evaluate the column headers\n",
    "\n",
    "df.columns"
   ]
  },
  {
   "cell_type": "code",
   "execution_count": 54,
   "metadata": {},
   "outputs": [
    {
     "name": "stdout",
     "output_type": "stream",
     "text": [
      "<class 'pandas.core.frame.DataFrame'>\n",
      "RangeIndex: 90348 entries, 0 to 90347\n",
      "Data columns (total 31 columns):\n",
      " #   Column                  Non-Null Count  Dtype  \n",
      "---  ------                  --------------  -----  \n",
      " 0   Event.Id                88889 non-null  object \n",
      " 1   Investigation.Type      90348 non-null  object \n",
      " 2   Accident.Number         88889 non-null  object \n",
      " 3   Event.Date              88889 non-null  object \n",
      " 4   Location                88837 non-null  object \n",
      " 5   Country                 88663 non-null  object \n",
      " 6   Latitude                34382 non-null  object \n",
      " 7   Longitude               34373 non-null  object \n",
      " 8   Airport.Code            50249 non-null  object \n",
      " 9   Airport.Name            52790 non-null  object \n",
      " 10  Injury.Severity         87889 non-null  object \n",
      " 11  Aircraft.damage         85695 non-null  object \n",
      " 12  Aircraft.Category       32287 non-null  object \n",
      " 13  Registration.Number     87572 non-null  object \n",
      " 14  Make                    88826 non-null  object \n",
      " 15  Model                   88797 non-null  object \n",
      " 16  Amateur.Built           88787 non-null  object \n",
      " 17  Number.of.Engines       82805 non-null  float64\n",
      " 18  Engine.Type             81812 non-null  object \n",
      " 19  FAR.Description         32023 non-null  object \n",
      " 20  Schedule                12582 non-null  object \n",
      " 21  Purpose.of.flight       82697 non-null  object \n",
      " 22  Air.carrier             16648 non-null  object \n",
      " 23  Total.Fatal.Injuries    77488 non-null  float64\n",
      " 24  Total.Serious.Injuries  76379 non-null  float64\n",
      " 25  Total.Minor.Injuries    76956 non-null  float64\n",
      " 26  Total.Uninjured         82977 non-null  float64\n",
      " 27  Weather.Condition       84397 non-null  object \n",
      " 28  Broad.phase.of.flight   61724 non-null  object \n",
      " 29  Report.Status           82508 non-null  object \n",
      " 30  Publication.Date        73659 non-null  object \n",
      "dtypes: float64(5), object(26)\n",
      "memory usage: 21.4+ MB\n"
     ]
    }
   ],
   "source": [
    "# understand the data types, counts, and null values \n",
    "\n",
    "df.info()"
   ]
  },
  {
   "cell_type": "code",
   "execution_count": 55,
   "metadata": {},
   "outputs": [
    {
     "data": {
      "text/html": [
       "<div>\n",
       "<style scoped>\n",
       "    .dataframe tbody tr th:only-of-type {\n",
       "        vertical-align: middle;\n",
       "    }\n",
       "\n",
       "    .dataframe tbody tr th {\n",
       "        vertical-align: top;\n",
       "    }\n",
       "\n",
       "    .dataframe thead th {\n",
       "        text-align: right;\n",
       "    }\n",
       "</style>\n",
       "<table border=\"1\" class=\"dataframe\">\n",
       "  <thead>\n",
       "    <tr style=\"text-align: right;\">\n",
       "      <th></th>\n",
       "      <th>Number.of.Engines</th>\n",
       "      <th>Total.Fatal.Injuries</th>\n",
       "      <th>Total.Serious.Injuries</th>\n",
       "      <th>Total.Minor.Injuries</th>\n",
       "      <th>Total.Uninjured</th>\n",
       "    </tr>\n",
       "  </thead>\n",
       "  <tbody>\n",
       "    <tr>\n",
       "      <th>count</th>\n",
       "      <td>82805.000000</td>\n",
       "      <td>77488.000000</td>\n",
       "      <td>76379.000000</td>\n",
       "      <td>76956.000000</td>\n",
       "      <td>82977.000000</td>\n",
       "    </tr>\n",
       "    <tr>\n",
       "      <th>mean</th>\n",
       "      <td>1.146585</td>\n",
       "      <td>0.647855</td>\n",
       "      <td>0.279881</td>\n",
       "      <td>0.357061</td>\n",
       "      <td>5.325440</td>\n",
       "    </tr>\n",
       "    <tr>\n",
       "      <th>std</th>\n",
       "      <td>0.446510</td>\n",
       "      <td>5.485960</td>\n",
       "      <td>1.544084</td>\n",
       "      <td>2.235625</td>\n",
       "      <td>27.913634</td>\n",
       "    </tr>\n",
       "    <tr>\n",
       "      <th>min</th>\n",
       "      <td>0.000000</td>\n",
       "      <td>0.000000</td>\n",
       "      <td>0.000000</td>\n",
       "      <td>0.000000</td>\n",
       "      <td>0.000000</td>\n",
       "    </tr>\n",
       "    <tr>\n",
       "      <th>25%</th>\n",
       "      <td>1.000000</td>\n",
       "      <td>0.000000</td>\n",
       "      <td>0.000000</td>\n",
       "      <td>0.000000</td>\n",
       "      <td>0.000000</td>\n",
       "    </tr>\n",
       "    <tr>\n",
       "      <th>50%</th>\n",
       "      <td>1.000000</td>\n",
       "      <td>0.000000</td>\n",
       "      <td>0.000000</td>\n",
       "      <td>0.000000</td>\n",
       "      <td>1.000000</td>\n",
       "    </tr>\n",
       "    <tr>\n",
       "      <th>75%</th>\n",
       "      <td>1.000000</td>\n",
       "      <td>0.000000</td>\n",
       "      <td>0.000000</td>\n",
       "      <td>0.000000</td>\n",
       "      <td>2.000000</td>\n",
       "    </tr>\n",
       "    <tr>\n",
       "      <th>max</th>\n",
       "      <td>8.000000</td>\n",
       "      <td>349.000000</td>\n",
       "      <td>161.000000</td>\n",
       "      <td>380.000000</td>\n",
       "      <td>699.000000</td>\n",
       "    </tr>\n",
       "  </tbody>\n",
       "</table>\n",
       "</div>"
      ],
      "text/plain": [
       "       Number.of.Engines  Total.Fatal.Injuries  Total.Serious.Injuries  \\\n",
       "count       82805.000000          77488.000000            76379.000000   \n",
       "mean            1.146585              0.647855                0.279881   \n",
       "std             0.446510              5.485960                1.544084   \n",
       "min             0.000000              0.000000                0.000000   \n",
       "25%             1.000000              0.000000                0.000000   \n",
       "50%             1.000000              0.000000                0.000000   \n",
       "75%             1.000000              0.000000                0.000000   \n",
       "max             8.000000            349.000000              161.000000   \n",
       "\n",
       "       Total.Minor.Injuries  Total.Uninjured  \n",
       "count          76956.000000     82977.000000  \n",
       "mean               0.357061         5.325440  \n",
       "std                2.235625        27.913634  \n",
       "min                0.000000         0.000000  \n",
       "25%                0.000000         0.000000  \n",
       "50%                0.000000         1.000000  \n",
       "75%                0.000000         2.000000  \n",
       "max              380.000000       699.000000  "
      ]
     },
     "execution_count": 55,
     "metadata": {},
     "output_type": "execute_result"
    }
   ],
   "source": [
    "#understanding the descriptive statistics for the dataset\n",
    "\n",
    "df.describe()"
   ]
  },
  {
   "cell_type": "markdown",
   "metadata": {},
   "source": [
    "# Data Cleaning"
   ]
  },
  {
   "cell_type": "code",
   "execution_count": 56,
   "metadata": {},
   "outputs": [
    {
     "data": {
      "text/plain": [
       "Event.Id                   1.614867\n",
       "Investigation.Type         0.000000\n",
       "Accident.Number            1.614867\n",
       "Event.Date                 1.614867\n",
       "Location                   1.672422\n",
       "Country                    1.865011\n",
       "Latitude                  61.944924\n",
       "Longitude                 61.954886\n",
       "Airport.Code              44.382831\n",
       "Airport.Name              41.570372\n",
       "Injury.Severity            2.721698\n",
       "Aircraft.damage            5.150086\n",
       "Aircraft.Category         64.263736\n",
       "Registration.Number        3.072564\n",
       "Make                       1.684597\n",
       "Model                      1.716695\n",
       "Amateur.Built              1.727764\n",
       "Number.of.Engines          8.348829\n",
       "Engine.Type                9.447913\n",
       "FAR.Description           64.555939\n",
       "Schedule                  86.073848\n",
       "Purpose.of.flight          8.468367\n",
       "Air.carrier               81.573471\n",
       "Total.Fatal.Injuries      14.233851\n",
       "Total.Serious.Injuries    15.461327\n",
       "Total.Minor.Injuries      14.822686\n",
       "Total.Uninjured            8.158454\n",
       "Weather.Condition          6.586753\n",
       "Broad.phase.of.flight     31.681941\n",
       "Report.Status              8.677558\n",
       "Publication.Date          18.471909\n",
       "dtype: float64"
      ]
     },
     "execution_count": 56,
     "metadata": {},
     "output_type": "execute_result"
    }
   ],
   "source": [
    "#Identify missing values across dataframe columns \n",
    "df.isna().sum()/len(df)*100"
   ]
  },
  {
   "cell_type": "code",
   "execution_count": 57,
   "metadata": {},
   "outputs": [
    {
     "name": "stdout",
     "output_type": "stream",
     "text": [
      "['Latitude', 'Longitude', 'Aircraft.Category', 'FAR.Description', 'Schedule', 'Air.carrier']\n"
     ]
    }
   ],
   "source": [
    "#Identify columns with more than 50% of missing data and add them to a list\n",
    "columns_to_drop=[]\n",
    "for x in df:\n",
    "    if (df[x].isna().sum() / len(df[x])) * 100 > 50:\n",
    "        columns_to_drop.append(x)\n",
    "print(columns_to_drop)"
   ]
  },
  {
   "cell_type": "code",
   "execution_count": 58,
   "metadata": {},
   "outputs": [
    {
     "data": {
      "text/plain": [
       "Index(['Event.Id', 'Investigation.Type', 'Accident.Number', 'Event.Date',\n",
       "       'Location', 'Country', 'Airport.Code', 'Airport.Name',\n",
       "       'Injury.Severity', 'Aircraft.damage', 'Registration.Number', 'Make',\n",
       "       'Model', 'Amateur.Built', 'Number.of.Engines', 'Engine.Type',\n",
       "       'Purpose.of.flight', 'Total.Fatal.Injuries', 'Total.Serious.Injuries',\n",
       "       'Total.Minor.Injuries', 'Total.Uninjured', 'Weather.Condition',\n",
       "       'Broad.phase.of.flight', 'Report.Status', 'Publication.Date'],\n",
       "      dtype='object')"
      ]
     },
     "execution_count": 58,
     "metadata": {},
     "output_type": "execute_result"
    }
   ],
   "source": [
    "#Drop columns from dataframe that are missing too much data\n",
    "df2 = df.drop(columns= columns_to_drop)\n",
    "df2.columns"
   ]
  },
  {
   "cell_type": "code",
   "execution_count": 59,
   "metadata": {},
   "outputs": [],
   "source": [
    "#imputing missing numerical data values with mode of that column\n",
    "df2['Total.Fatal.Injuries'].fillna(df2['Total.Fatal.Injuries'].median(),inplace=True)\n",
    "df2['Total.Serious.Injuries'].fillna(df2['Total.Serious.Injuries'].median(),inplace=True)\n",
    "df2['Total.Minor.Injuries'].fillna(df2['Total.Minor.Injuries'].median(),inplace=True)\n",
    "df2['Total.Uninjured'].fillna(df2['Total.Uninjured'].median(),inplace=True)"
   ]
  },
  {
   "cell_type": "code",
   "execution_count": 60,
   "metadata": {},
   "outputs": [
    {
     "data": {
      "text/plain": [
       "Event.Id                   1.614867\n",
       "Investigation.Type         0.000000\n",
       "Accident.Number            1.614867\n",
       "Event.Date                 1.614867\n",
       "Location                   1.672422\n",
       "Country                    1.865011\n",
       "Airport.Code              44.382831\n",
       "Airport.Name              41.570372\n",
       "Injury.Severity            2.721698\n",
       "Aircraft.damage            5.150086\n",
       "Registration.Number        3.072564\n",
       "Make                       1.684597\n",
       "Model                      1.716695\n",
       "Amateur.Built              1.727764\n",
       "Number.of.Engines          8.348829\n",
       "Engine.Type                9.447913\n",
       "Purpose.of.flight          8.468367\n",
       "Total.Fatal.Injuries       0.000000\n",
       "Total.Serious.Injuries     0.000000\n",
       "Total.Minor.Injuries       0.000000\n",
       "Total.Uninjured            0.000000\n",
       "Weather.Condition          6.586753\n",
       "Broad.phase.of.flight     31.681941\n",
       "Report.Status              8.677558\n",
       "Publication.Date          18.471909\n",
       "dtype: float64"
      ]
     },
     "execution_count": 60,
     "metadata": {},
     "output_type": "execute_result"
    }
   ],
   "source": [
    "(df2.isnull().sum()/len(df2))*100"
   ]
  },
  {
   "cell_type": "code",
   "execution_count": 61,
   "metadata": {},
   "outputs": [
    {
     "data": {
      "text/plain": [
       "Event.Id                  0.0\n",
       "Investigation.Type        0.0\n",
       "Accident.Number           0.0\n",
       "Event.Date                0.0\n",
       "Location                  0.0\n",
       "Country                   0.0\n",
       "Airport.Code              0.0\n",
       "Airport.Name              0.0\n",
       "Injury.Severity           0.0\n",
       "Aircraft.damage           0.0\n",
       "Registration.Number       0.0\n",
       "Make                      0.0\n",
       "Model                     0.0\n",
       "Amateur.Built             0.0\n",
       "Number.of.Engines         0.0\n",
       "Engine.Type               0.0\n",
       "Purpose.of.flight         0.0\n",
       "Total.Fatal.Injuries      0.0\n",
       "Total.Serious.Injuries    0.0\n",
       "Total.Minor.Injuries      0.0\n",
       "Total.Uninjured           0.0\n",
       "Weather.Condition         0.0\n",
       "Broad.phase.of.flight     0.0\n",
       "Report.Status             0.0\n",
       "Publication.Date          0.0\n",
       "dtype: float64"
      ]
     },
     "execution_count": 61,
     "metadata": {},
     "output_type": "execute_result"
    }
   ],
   "source": [
    "#dealing with missing values in the remaining columns using foward and backward fill.\n",
    "df2=df2.fillna(method='ffill').fillna(method='bfill')\n",
    "(df2.isnull().sum()/len(df2))*100"
   ]
  },
  {
   "cell_type": "code",
   "execution_count": 62,
   "metadata": {},
   "outputs": [
    {
     "data": {
      "text/plain": [
       "False"
      ]
     },
     "execution_count": 62,
     "metadata": {},
     "output_type": "execute_result"
    }
   ],
   "source": [
    "#checking for duplicates\n",
    "df2.duplicated().any()"
   ]
  },
  {
   "cell_type": "code",
   "execution_count": 63,
   "metadata": {},
   "outputs": [],
   "source": [
    "# Converting 'Event.Date' and 'Publication.Date' to datetime datatype\n",
    "df2['Event.Date'] = pd.to_datetime(df2['Event.Date'], errors='coerce')\n",
    "df2['Publication.Date'] = pd.to_datetime(df2['Publication.Date'], errors='coerce', format='%d-%m-%Y')"
   ]
  },
  {
   "cell_type": "code",
   "execution_count": 64,
   "metadata": {},
   "outputs": [
    {
     "name": "stdout",
     "output_type": "stream",
     "text": [
      "<class 'pandas.core.frame.DataFrame'>\n",
      "RangeIndex: 90348 entries, 0 to 90347\n",
      "Data columns (total 25 columns):\n",
      " #   Column                  Non-Null Count  Dtype         \n",
      "---  ------                  --------------  -----         \n",
      " 0   Event.Id                90348 non-null  object        \n",
      " 1   Investigation.Type      90348 non-null  object        \n",
      " 2   Accident.Number         90348 non-null  object        \n",
      " 3   Event.Date              90348 non-null  datetime64[ns]\n",
      " 4   Location                90348 non-null  object        \n",
      " 5   Country                 90348 non-null  object        \n",
      " 6   Airport.Code            90348 non-null  object        \n",
      " 7   Airport.Name            90348 non-null  object        \n",
      " 8   Injury.Severity         90348 non-null  object        \n",
      " 9   Aircraft.damage         90348 non-null  object        \n",
      " 10  Registration.Number     90348 non-null  object        \n",
      " 11  Make                    90348 non-null  object        \n",
      " 12  Model                   90348 non-null  object        \n",
      " 13  Amateur.Built           90348 non-null  object        \n",
      " 14  Number.of.Engines       90348 non-null  float64       \n",
      " 15  Engine.Type             90348 non-null  object        \n",
      " 16  Purpose.of.flight       90348 non-null  object        \n",
      " 17  Total.Fatal.Injuries    90348 non-null  float64       \n",
      " 18  Total.Serious.Injuries  90348 non-null  float64       \n",
      " 19  Total.Minor.Injuries    90348 non-null  float64       \n",
      " 20  Total.Uninjured         90348 non-null  float64       \n",
      " 21  Weather.Condition       90348 non-null  object        \n",
      " 22  Broad.phase.of.flight   90348 non-null  object        \n",
      " 23  Report.Status           90348 non-null  object        \n",
      " 24  Publication.Date        90348 non-null  datetime64[ns]\n",
      "dtypes: datetime64[ns](2), float64(5), object(18)\n",
      "memory usage: 17.2+ MB\n"
     ]
    }
   ],
   "source": [
    "#Reviewing the column datatypes again.\n",
    "df2.info()"
   ]
  },
  {
   "cell_type": "code",
   "execution_count": 65,
   "metadata": {},
   "outputs": [
    {
     "data": {
      "text/plain": [
       "Cessna                     22322\n",
       "Piper                      12094\n",
       "CESSNA                      5176\n",
       "Beech                       4356\n",
       "PIPER                       2992\n",
       "                           ...  \n",
       "Higgens                        1\n",
       "SKYRUNNER                      1\n",
       "Cooprider                      1\n",
       "SUD AVIATION/EUROCOPTER        1\n",
       "VIC TATELMAN                   1\n",
       "Name: Make, Length: 8237, dtype: int64"
      ]
     },
     "execution_count": 65,
     "metadata": {},
     "output_type": "execute_result"
    }
   ],
   "source": [
    "# inspecting different airplane makes\n",
    "\n",
    "df2['Make'].value_counts()\n"
   ]
  },
  {
   "cell_type": "code",
   "execution_count": 66,
   "metadata": {},
   "outputs": [
    {
     "data": {
      "text/plain": [
       "Cessna                          27498\n",
       "Piper                           15086\n",
       "Beech                            5441\n",
       "Bell                             2765\n",
       "Boeing                           2762\n",
       "                                ...  \n",
       "P Z L -Warszawa-Cnpsl               1\n",
       "R. James Thorne                     1\n",
       "Danbrook                            1\n",
       "Root, Arthur T.                     1\n",
       "T Bird Golden Circle Air Inc        1\n",
       "Name: Make, Length: 7587, dtype: int64"
      ]
     },
     "execution_count": 66,
     "metadata": {},
     "output_type": "execute_result"
    }
   ],
   "source": [
    "#cleaning data in the same make but difrent spelling\n",
    "df2['Make'] = df2['Make'].str.title()\n",
    "df2['Make'].value_counts()"
   ]
  },
  {
   "cell_type": "code",
   "execution_count": 67,
   "metadata": {},
   "outputs": [
    {
     "data": {
      "text/plain": [
       "152                    2384\n",
       "172                    1811\n",
       "172N                   1179\n",
       "PA-28-140               939\n",
       "150                     837\n",
       "                       ... \n",
       "Schreder                  1\n",
       "FR-172J                   1\n",
       "SS-MK4                    1\n",
       "BAe 146-200               1\n",
       "QUICKSILVER - GT500       1\n",
       "Name: Model, Length: 12318, dtype: int64"
      ]
     },
     "execution_count": 67,
     "metadata": {},
     "output_type": "execute_result"
    }
   ],
   "source": [
    "# inspecting  different types of airplane models\n",
    "df2['Model'].value_counts()"
   ]
  },
  {
   "cell_type": "code",
   "execution_count": 68,
   "metadata": {},
   "outputs": [
    {
     "data": {
      "text/plain": [
       "VMC    82911\n",
       "IMC     6228\n",
       "UNK      856\n",
       "Unk      353\n",
       "Name: Weather.Condition, dtype: int64"
      ]
     },
     "execution_count": 68,
     "metadata": {},
     "output_type": "execute_result"
    }
   ],
   "source": [
    "#inspecting difrent values in weather condition column\n",
    "df2['Weather.Condition'].value_counts()"
   ]
  },
  {
   "cell_type": "code",
   "execution_count": 69,
   "metadata": {},
   "outputs": [
    {
     "data": {
      "text/plain": [
       "VMC    82911\n",
       "IMC     6228\n",
       "UNK     1209\n",
       "Name: Weather.Condition, dtype: int64"
      ]
     },
     "execution_count": 69,
     "metadata": {},
     "output_type": "execute_result"
    }
   ],
   "source": [
    "#Clean values in Weather Condition column\n",
    "df2['Weather.Condition'] = df2['Weather.Condition'].str.upper()\n",
    "df2['Weather.Condition'].value_counts()"
   ]
  },
  {
   "cell_type": "code",
   "execution_count": 70,
   "metadata": {},
   "outputs": [
    {
     "data": {
      "text/plain": [
       "Substantial    67459\n",
       "Destroyed      19756\n",
       "Minor           3000\n",
       "Unknown          133\n",
       "Name: Aircraft.damage, dtype: int64"
      ]
     },
     "execution_count": 70,
     "metadata": {},
     "output_type": "execute_result"
    }
   ],
   "source": [
    "# inspecting values in the damage count column\n",
    "damage_count = df2['Aircraft.damage'].value_counts()\n",
    "damage_count"
   ]
  },
  {
   "cell_type": "code",
   "execution_count": 71,
   "metadata": {},
   "outputs": [
    {
     "data": {
      "text/plain": [
       "Reciprocating      76508\n",
       "Turbo Shaft         4386\n",
       "Turbo Prop          3797\n",
       "Turbo Fan           2766\n",
       "Unknown             2062\n",
       "Turbo Jet            758\n",
       "None                  25\n",
       "Geared Turbofan       19\n",
       "Electric              17\n",
       "NONE                   4\n",
       "LR                     3\n",
       "UNK                    2\n",
       "Hybrid Rocket          1\n",
       "Name: Engine.Type, dtype: int64"
      ]
     },
     "execution_count": 71,
     "metadata": {},
     "output_type": "execute_result"
    }
   ],
   "source": [
    "# inspecting different types of engines\n",
    "engine_type = df2['Engine.Type'].value_counts()\n",
    "engine_type"
   ]
  },
  {
   "cell_type": "code",
   "execution_count": 72,
   "metadata": {},
   "outputs": [],
   "source": [
    "#creating a copy of my cleaned data set.\n",
    "original_data=df2.copy()\n",
    "df2=original_data.copy()"
   ]
  },
  {
   "cell_type": "code",
   "execution_count": 73,
   "metadata": {},
   "outputs": [
    {
     "data": {
      "text/html": [
       "<div>\n",
       "<style scoped>\n",
       "    .dataframe tbody tr th:only-of-type {\n",
       "        vertical-align: middle;\n",
       "    }\n",
       "\n",
       "    .dataframe tbody tr th {\n",
       "        vertical-align: top;\n",
       "    }\n",
       "\n",
       "    .dataframe thead th {\n",
       "        text-align: right;\n",
       "    }\n",
       "</style>\n",
       "<table border=\"1\" class=\"dataframe\">\n",
       "  <thead>\n",
       "    <tr style=\"text-align: right;\">\n",
       "      <th></th>\n",
       "      <th>Event.Id</th>\n",
       "      <th>Investigation.Type</th>\n",
       "      <th>Accident.Number</th>\n",
       "      <th>Event.Date</th>\n",
       "      <th>Location</th>\n",
       "      <th>Country</th>\n",
       "      <th>Airport.Code</th>\n",
       "      <th>Airport.Name</th>\n",
       "      <th>Injury.Severity</th>\n",
       "      <th>Aircraft.damage</th>\n",
       "      <th>...</th>\n",
       "      <th>Engine.Type</th>\n",
       "      <th>Purpose.of.flight</th>\n",
       "      <th>Total.Fatal.Injuries</th>\n",
       "      <th>Total.Serious.Injuries</th>\n",
       "      <th>Total.Minor.Injuries</th>\n",
       "      <th>Total.Uninjured</th>\n",
       "      <th>Weather.Condition</th>\n",
       "      <th>Broad.phase.of.flight</th>\n",
       "      <th>Report.Status</th>\n",
       "      <th>Publication.Date</th>\n",
       "    </tr>\n",
       "  </thead>\n",
       "  <tbody>\n",
       "    <tr>\n",
       "      <th>0</th>\n",
       "      <td>20001218X45444</td>\n",
       "      <td>Accident</td>\n",
       "      <td>SEA87LA080</td>\n",
       "      <td>1948-10-24</td>\n",
       "      <td>MOOSE CREEK, ID</td>\n",
       "      <td>United States</td>\n",
       "      <td>N58</td>\n",
       "      <td>BLACKBURN AG STRIP</td>\n",
       "      <td>Fatal(2)</td>\n",
       "      <td>Destroyed</td>\n",
       "      <td>...</td>\n",
       "      <td>Reciprocating</td>\n",
       "      <td>Personal</td>\n",
       "      <td>2.0</td>\n",
       "      <td>0.0</td>\n",
       "      <td>0.0</td>\n",
       "      <td>0.0</td>\n",
       "      <td>UNK</td>\n",
       "      <td>Cruise</td>\n",
       "      <td>Probable Cause</td>\n",
       "      <td>1996-09-19</td>\n",
       "    </tr>\n",
       "    <tr>\n",
       "      <th>1</th>\n",
       "      <td>20001218X45447</td>\n",
       "      <td>Accident</td>\n",
       "      <td>LAX94LA336</td>\n",
       "      <td>1962-07-19</td>\n",
       "      <td>BRIDGEPORT, CA</td>\n",
       "      <td>United States</td>\n",
       "      <td>N58</td>\n",
       "      <td>BLACKBURN AG STRIP</td>\n",
       "      <td>Fatal(4)</td>\n",
       "      <td>Destroyed</td>\n",
       "      <td>...</td>\n",
       "      <td>Reciprocating</td>\n",
       "      <td>Personal</td>\n",
       "      <td>4.0</td>\n",
       "      <td>0.0</td>\n",
       "      <td>0.0</td>\n",
       "      <td>0.0</td>\n",
       "      <td>UNK</td>\n",
       "      <td>Unknown</td>\n",
       "      <td>Probable Cause</td>\n",
       "      <td>1996-09-19</td>\n",
       "    </tr>\n",
       "    <tr>\n",
       "      <th>2</th>\n",
       "      <td>20061025X01555</td>\n",
       "      <td>Accident</td>\n",
       "      <td>NYC07LA005</td>\n",
       "      <td>1974-08-30</td>\n",
       "      <td>Saltville, VA</td>\n",
       "      <td>United States</td>\n",
       "      <td>N58</td>\n",
       "      <td>BLACKBURN AG STRIP</td>\n",
       "      <td>Fatal(3)</td>\n",
       "      <td>Destroyed</td>\n",
       "      <td>...</td>\n",
       "      <td>Reciprocating</td>\n",
       "      <td>Personal</td>\n",
       "      <td>3.0</td>\n",
       "      <td>0.0</td>\n",
       "      <td>0.0</td>\n",
       "      <td>1.0</td>\n",
       "      <td>IMC</td>\n",
       "      <td>Cruise</td>\n",
       "      <td>Probable Cause</td>\n",
       "      <td>2007-02-26</td>\n",
       "    </tr>\n",
       "    <tr>\n",
       "      <th>3</th>\n",
       "      <td>20001218X45448</td>\n",
       "      <td>Accident</td>\n",
       "      <td>LAX96LA321</td>\n",
       "      <td>1977-06-19</td>\n",
       "      <td>EUREKA, CA</td>\n",
       "      <td>United States</td>\n",
       "      <td>N58</td>\n",
       "      <td>BLACKBURN AG STRIP</td>\n",
       "      <td>Fatal(2)</td>\n",
       "      <td>Destroyed</td>\n",
       "      <td>...</td>\n",
       "      <td>Reciprocating</td>\n",
       "      <td>Personal</td>\n",
       "      <td>2.0</td>\n",
       "      <td>0.0</td>\n",
       "      <td>0.0</td>\n",
       "      <td>0.0</td>\n",
       "      <td>IMC</td>\n",
       "      <td>Cruise</td>\n",
       "      <td>Probable Cause</td>\n",
       "      <td>2000-09-12</td>\n",
       "    </tr>\n",
       "    <tr>\n",
       "      <th>4</th>\n",
       "      <td>20041105X01764</td>\n",
       "      <td>Accident</td>\n",
       "      <td>CHI79FA064</td>\n",
       "      <td>1979-08-02</td>\n",
       "      <td>Canton, OH</td>\n",
       "      <td>United States</td>\n",
       "      <td>N58</td>\n",
       "      <td>BLACKBURN AG STRIP</td>\n",
       "      <td>Fatal(1)</td>\n",
       "      <td>Destroyed</td>\n",
       "      <td>...</td>\n",
       "      <td>Reciprocating</td>\n",
       "      <td>Personal</td>\n",
       "      <td>1.0</td>\n",
       "      <td>2.0</td>\n",
       "      <td>0.0</td>\n",
       "      <td>0.0</td>\n",
       "      <td>VMC</td>\n",
       "      <td>Approach</td>\n",
       "      <td>Probable Cause</td>\n",
       "      <td>1980-04-16</td>\n",
       "    </tr>\n",
       "    <tr>\n",
       "      <th>...</th>\n",
       "      <td>...</td>\n",
       "      <td>...</td>\n",
       "      <td>...</td>\n",
       "      <td>...</td>\n",
       "      <td>...</td>\n",
       "      <td>...</td>\n",
       "      <td>...</td>\n",
       "      <td>...</td>\n",
       "      <td>...</td>\n",
       "      <td>...</td>\n",
       "      <td>...</td>\n",
       "      <td>...</td>\n",
       "      <td>...</td>\n",
       "      <td>...</td>\n",
       "      <td>...</td>\n",
       "      <td>...</td>\n",
       "      <td>...</td>\n",
       "      <td>...</td>\n",
       "      <td>...</td>\n",
       "      <td>...</td>\n",
       "      <td>...</td>\n",
       "    </tr>\n",
       "    <tr>\n",
       "      <th>90343</th>\n",
       "      <td>20221227106491</td>\n",
       "      <td>Accident</td>\n",
       "      <td>ERA23LA093</td>\n",
       "      <td>2022-12-26</td>\n",
       "      <td>Annapolis, MD</td>\n",
       "      <td>United States</td>\n",
       "      <td>BKV</td>\n",
       "      <td>BROOKSVILLE-TAMPA BAY RGNL</td>\n",
       "      <td>Minor</td>\n",
       "      <td>Substantial</td>\n",
       "      <td>...</td>\n",
       "      <td>Reciprocating</td>\n",
       "      <td>Personal</td>\n",
       "      <td>0.0</td>\n",
       "      <td>1.0</td>\n",
       "      <td>0.0</td>\n",
       "      <td>0.0</td>\n",
       "      <td>VMC</td>\n",
       "      <td>Landing</td>\n",
       "      <td>The pilots loss of control due to a wind gust...</td>\n",
       "      <td>2022-12-29</td>\n",
       "    </tr>\n",
       "    <tr>\n",
       "      <th>90344</th>\n",
       "      <td>20221227106494</td>\n",
       "      <td>Accident</td>\n",
       "      <td>ERA23LA095</td>\n",
       "      <td>2022-12-26</td>\n",
       "      <td>Hampton, NH</td>\n",
       "      <td>United States</td>\n",
       "      <td>BKV</td>\n",
       "      <td>BROOKSVILLE-TAMPA BAY RGNL</td>\n",
       "      <td>Minor</td>\n",
       "      <td>Substantial</td>\n",
       "      <td>...</td>\n",
       "      <td>Reciprocating</td>\n",
       "      <td>Personal</td>\n",
       "      <td>0.0</td>\n",
       "      <td>0.0</td>\n",
       "      <td>0.0</td>\n",
       "      <td>0.0</td>\n",
       "      <td>VMC</td>\n",
       "      <td>Landing</td>\n",
       "      <td>The pilots loss of control due to a wind gust...</td>\n",
       "      <td>2022-12-29</td>\n",
       "    </tr>\n",
       "    <tr>\n",
       "      <th>90345</th>\n",
       "      <td>20221227106497</td>\n",
       "      <td>Accident</td>\n",
       "      <td>WPR23LA075</td>\n",
       "      <td>2022-12-26</td>\n",
       "      <td>Payson, AZ</td>\n",
       "      <td>United States</td>\n",
       "      <td>PAN</td>\n",
       "      <td>PAYSON</td>\n",
       "      <td>Non-Fatal</td>\n",
       "      <td>Substantial</td>\n",
       "      <td>...</td>\n",
       "      <td>Reciprocating</td>\n",
       "      <td>Personal</td>\n",
       "      <td>0.0</td>\n",
       "      <td>0.0</td>\n",
       "      <td>0.0</td>\n",
       "      <td>1.0</td>\n",
       "      <td>VMC</td>\n",
       "      <td>Landing</td>\n",
       "      <td>The pilots loss of control due to a wind gust...</td>\n",
       "      <td>2022-12-27</td>\n",
       "    </tr>\n",
       "    <tr>\n",
       "      <th>90346</th>\n",
       "      <td>20221227106498</td>\n",
       "      <td>Accident</td>\n",
       "      <td>WPR23LA076</td>\n",
       "      <td>2022-12-26</td>\n",
       "      <td>Morgan, UT</td>\n",
       "      <td>United States</td>\n",
       "      <td>PAN</td>\n",
       "      <td>PAYSON</td>\n",
       "      <td>Non-Fatal</td>\n",
       "      <td>Substantial</td>\n",
       "      <td>...</td>\n",
       "      <td>Reciprocating</td>\n",
       "      <td>Personal</td>\n",
       "      <td>0.0</td>\n",
       "      <td>0.0</td>\n",
       "      <td>0.0</td>\n",
       "      <td>0.0</td>\n",
       "      <td>VMC</td>\n",
       "      <td>Landing</td>\n",
       "      <td>The pilots loss of control due to a wind gust...</td>\n",
       "      <td>2022-12-27</td>\n",
       "    </tr>\n",
       "    <tr>\n",
       "      <th>90347</th>\n",
       "      <td>20221230106513</td>\n",
       "      <td>Accident</td>\n",
       "      <td>ERA23LA097</td>\n",
       "      <td>2022-12-29</td>\n",
       "      <td>Athens, GA</td>\n",
       "      <td>United States</td>\n",
       "      <td>PAN</td>\n",
       "      <td>PAYSON</td>\n",
       "      <td>Minor</td>\n",
       "      <td>Substantial</td>\n",
       "      <td>...</td>\n",
       "      <td>Reciprocating</td>\n",
       "      <td>Personal</td>\n",
       "      <td>0.0</td>\n",
       "      <td>1.0</td>\n",
       "      <td>0.0</td>\n",
       "      <td>1.0</td>\n",
       "      <td>VMC</td>\n",
       "      <td>Landing</td>\n",
       "      <td>The pilots loss of control due to a wind gust...</td>\n",
       "      <td>2022-12-30</td>\n",
       "    </tr>\n",
       "  </tbody>\n",
       "</table>\n",
       "<p>90348 rows × 25 columns</p>\n",
       "</div>"
      ],
      "text/plain": [
       "             Event.Id Investigation.Type Accident.Number Event.Date  \\\n",
       "0      20001218X45444           Accident      SEA87LA080 1948-10-24   \n",
       "1      20001218X45447           Accident      LAX94LA336 1962-07-19   \n",
       "2      20061025X01555           Accident      NYC07LA005 1974-08-30   \n",
       "3      20001218X45448           Accident      LAX96LA321 1977-06-19   \n",
       "4      20041105X01764           Accident      CHI79FA064 1979-08-02   \n",
       "...               ...                ...             ...        ...   \n",
       "90343  20221227106491           Accident      ERA23LA093 2022-12-26   \n",
       "90344  20221227106494           Accident      ERA23LA095 2022-12-26   \n",
       "90345  20221227106497           Accident      WPR23LA075 2022-12-26   \n",
       "90346  20221227106498           Accident      WPR23LA076 2022-12-26   \n",
       "90347  20221230106513           Accident      ERA23LA097 2022-12-29   \n",
       "\n",
       "              Location        Country Airport.Code  \\\n",
       "0      MOOSE CREEK, ID  United States          N58   \n",
       "1       BRIDGEPORT, CA  United States          N58   \n",
       "2        Saltville, VA  United States          N58   \n",
       "3           EUREKA, CA  United States          N58   \n",
       "4           Canton, OH  United States          N58   \n",
       "...                ...            ...          ...   \n",
       "90343    Annapolis, MD  United States          BKV   \n",
       "90344      Hampton, NH  United States          BKV   \n",
       "90345       Payson, AZ  United States          PAN   \n",
       "90346       Morgan, UT  United States          PAN   \n",
       "90347       Athens, GA  United States          PAN   \n",
       "\n",
       "                     Airport.Name Injury.Severity Aircraft.damage  ...  \\\n",
       "0              BLACKBURN AG STRIP        Fatal(2)       Destroyed  ...   \n",
       "1              BLACKBURN AG STRIP        Fatal(4)       Destroyed  ...   \n",
       "2              BLACKBURN AG STRIP        Fatal(3)       Destroyed  ...   \n",
       "3              BLACKBURN AG STRIP        Fatal(2)       Destroyed  ...   \n",
       "4              BLACKBURN AG STRIP        Fatal(1)       Destroyed  ...   \n",
       "...                           ...             ...             ...  ...   \n",
       "90343  BROOKSVILLE-TAMPA BAY RGNL           Minor     Substantial  ...   \n",
       "90344  BROOKSVILLE-TAMPA BAY RGNL           Minor     Substantial  ...   \n",
       "90345                      PAYSON       Non-Fatal     Substantial  ...   \n",
       "90346                      PAYSON       Non-Fatal     Substantial  ...   \n",
       "90347                      PAYSON           Minor     Substantial  ...   \n",
       "\n",
       "         Engine.Type Purpose.of.flight Total.Fatal.Injuries  \\\n",
       "0      Reciprocating          Personal                  2.0   \n",
       "1      Reciprocating          Personal                  4.0   \n",
       "2      Reciprocating          Personal                  3.0   \n",
       "3      Reciprocating          Personal                  2.0   \n",
       "4      Reciprocating          Personal                  1.0   \n",
       "...              ...               ...                  ...   \n",
       "90343  Reciprocating          Personal                  0.0   \n",
       "90344  Reciprocating          Personal                  0.0   \n",
       "90345  Reciprocating          Personal                  0.0   \n",
       "90346  Reciprocating          Personal                  0.0   \n",
       "90347  Reciprocating          Personal                  0.0   \n",
       "\n",
       "      Total.Serious.Injuries  Total.Minor.Injuries Total.Uninjured  \\\n",
       "0                        0.0                   0.0             0.0   \n",
       "1                        0.0                   0.0             0.0   \n",
       "2                        0.0                   0.0             1.0   \n",
       "3                        0.0                   0.0             0.0   \n",
       "4                        2.0                   0.0             0.0   \n",
       "...                      ...                   ...             ...   \n",
       "90343                    1.0                   0.0             0.0   \n",
       "90344                    0.0                   0.0             0.0   \n",
       "90345                    0.0                   0.0             1.0   \n",
       "90346                    0.0                   0.0             0.0   \n",
       "90347                    1.0                   0.0             1.0   \n",
       "\n",
       "      Weather.Condition  Broad.phase.of.flight  \\\n",
       "0                   UNK                 Cruise   \n",
       "1                   UNK                Unknown   \n",
       "2                   IMC                 Cruise   \n",
       "3                   IMC                 Cruise   \n",
       "4                   VMC               Approach   \n",
       "...                 ...                    ...   \n",
       "90343               VMC                Landing   \n",
       "90344               VMC                Landing   \n",
       "90345               VMC                Landing   \n",
       "90346               VMC                Landing   \n",
       "90347               VMC                Landing   \n",
       "\n",
       "                                           Report.Status  Publication.Date  \n",
       "0                                         Probable Cause        1996-09-19  \n",
       "1                                         Probable Cause        1996-09-19  \n",
       "2                                         Probable Cause        2007-02-26  \n",
       "3                                         Probable Cause        2000-09-12  \n",
       "4                                         Probable Cause        1980-04-16  \n",
       "...                                                  ...               ...  \n",
       "90343  The pilots loss of control due to a wind gust...        2022-12-29  \n",
       "90344  The pilots loss of control due to a wind gust...        2022-12-29  \n",
       "90345  The pilots loss of control due to a wind gust...        2022-12-27  \n",
       "90346  The pilots loss of control due to a wind gust...        2022-12-27  \n",
       "90347  The pilots loss of control due to a wind gust...        2022-12-30  \n",
       "\n",
       "[90348 rows x 25 columns]"
      ]
     },
     "execution_count": 73,
     "metadata": {},
     "output_type": "execute_result"
    }
   ],
   "source": [
    "# Save the cleaned DataFrame to a CSV file\n",
    "df2.to_csv('df2.csv',index=False)\n",
    "df2\n"
   ]
  },
  {
   "cell_type": "markdown",
   "metadata": {},
   "source": [
    "# Exploratory Data Analysis/visualization."
   ]
  },
  {
   "cell_type": "code",
   "execution_count": 74,
   "metadata": {},
   "outputs": [
    {
     "data": {
      "text/plain": [
       "array(['Personal', 'Business', 'Instructional', 'Unknown', 'Ferry',\n",
       "       'Executive/corporate', 'Aerial Observation', 'Aerial Application',\n",
       "       'Public Aircraft', 'Skydiving', 'Other Work Use', 'Positioning',\n",
       "       'Flight Test', 'Air Race/show', 'Air Drop',\n",
       "       'Public Aircraft - Federal', 'Glider Tow',\n",
       "       'Public Aircraft - Local', 'External Load',\n",
       "       'Public Aircraft - State', 'Banner Tow', 'Firefighting',\n",
       "       'Air Race show', 'PUBS', 'ASHO', 'PUBL'], dtype=object)"
      ]
     },
     "execution_count": 74,
     "metadata": {},
     "output_type": "execute_result"
    }
   ],
   "source": [
    "#understanding different purposes of flight\n",
    "Flight_purpose = df2[\"Purpose.of.flight\"].unique()\n",
    "Flight_purpose\n"
   ]
  },
  {
   "cell_type": "code",
   "execution_count": 75,
   "metadata": {},
   "outputs": [
    {
     "data": {
      "text/plain": [
       "array(['Stinson', 'Piper', 'Cessna', ..., 'James R Dernovsek',\n",
       "       'Orlican S R O', 'Royse Ralph L'], dtype=object)"
      ]
     },
     "execution_count": 75,
     "metadata": {},
     "output_type": "execute_result"
    }
   ],
   "source": [
    "#displaying the unique make\n",
    "unique_make = df2[\"Make\"].unique()\n",
    "unique_make\n"
   ]
  },
  {
   "cell_type": "code",
   "execution_count": 76,
   "metadata": {},
   "outputs": [
    {
     "data": {
      "text/plain": [
       "array(['108-3', 'PA24-180', '172M', ..., 'ROTORWAY EXEC 162-F',\n",
       "       'KITFOX S5', 'M-8 EAGLE'], dtype=object)"
      ]
     },
     "execution_count": 76,
     "metadata": {},
     "output_type": "execute_result"
    }
   ],
   "source": [
    "#displaying the unique Models\n",
    "unique_model = df2[\"Model\"].unique()\n",
    "unique_model\n"
   ]
  },
  {
   "cell_type": "markdown",
   "metadata": {},
   "source": [
    "## Numbers of accidents in varius countries.\n"
   ]
  },
  {
   "cell_type": "code",
   "execution_count": 77,
   "metadata": {},
   "outputs": [
    {
     "data": {
      "text/plain": [
       "Country\n",
       "ATLANTIC OCEAN    83\n",
       "AY                 1\n",
       "Afghanistan       14\n",
       "Albania            1\n",
       "Algeria            2\n",
       "                  ..\n",
       "West Indies       11\n",
       "Wolseley           1\n",
       "Yemen              1\n",
       "Zambia             2\n",
       "Zimbabwe           6\n",
       "Name: Country, Length: 219, dtype: int64"
      ]
     },
     "execution_count": 77,
     "metadata": {},
     "output_type": "execute_result"
    }
   ],
   "source": [
    "# Count of Accidents as per Countries\n",
    "accidents = df2['Country'].groupby(df2['Country']).count()\n",
    "accidents"
   ]
  },
  {
   "cell_type": "markdown",
   "metadata": {},
   "source": [
    "## plot 1. distributions of accidents in difrent countries(counts>300)"
   ]
  },
  {
   "cell_type": "code",
   "execution_count": 78,
   "metadata": {},
   "outputs": [
    {
     "data": {
      "image/png": "[encoded data removed]",
      "text/plain": [
       "<Figure size 1080x864 with 1 Axes>"
      ]
     },
     "metadata": {},
     "output_type": "display_data"
    }
   ],
   "source": [
    "# Plot Country\n",
    "fig = plt.figure(figsize=(15,12))\n",
    "accidents_Count = accidents[df2['Country'].groupby(df2['Country']).count() > 300]\n",
    "accidents_Count_df = pd.DataFrame({'Country':accidents_Count.index,'Count':accidents_Count.values})\n",
    "plt.bar(accidents_Count_df['Country'], height = accidents_Count_df['Count'], color='red')\n",
    "plt.xticks(rotation=90)\n",
    "plt.xlabel(\"Country\", size=15)\n",
    "plt.ylabel(\"Count of Accidents\", size=15)\n",
    "y=accidents_Count_df['Count']\n",
    "for i,v in enumerate(y):\n",
    "    plt.text(x=i, y=v, s=str(v), horizontalalignment='center', size=15)\n",
    "plt.title(\"Distribution of Accidents in Countries\", size=20)\n",
    "plt.show();"
   ]
  },
  {
   "cell_type": "markdown",
   "metadata": {},
   "source": [
    " ### from the bar graph above most of accidents occured in United States with more than 80000  cases of accidents being reported."
   ]
  },
  {
   "cell_type": "markdown",
   "metadata": {},
   "source": [
    "## Plot 2. distribution of accident among difrent aircrafts."
   ]
  },
  {
   "cell_type": "code",
   "execution_count": 79,
   "metadata": {},
   "outputs": [
    {
     "data": {
      "image/png": "[encoded data removed]",
      "text/plain": [
       "<Figure size 864x576 with 1 Axes>"
      ]
     },
     "metadata": {},
     "output_type": "display_data"
    }
   ],
   "source": [
    "# normalizing Df['make'] to upper case.\n",
    "df['Make'] = df['Make'].str.upper()\n",
    "accident_counts = df.groupby('Make').size().reset_index(name='accident_count')\n",
    "# Sort the counts in descending order and select the top 5 makes\n",
    "top_10_accidents = accident_counts.sort_values(by='accident_count', ascending=False).head(5)\n",
    "\n",
    "# Ploting  the bar chart for the top 5 aircraft makes with the most accidents\n",
    "plt.figure(figsize=(12, 8))\n",
    "sns.barplot(x='Make', y='accident_count', data=top_10_accidents)\n",
    "plt.title('Top 5 Aircraft Makes with the highest Number of Accidents')\n",
    "plt.xlabel('Aircraft Make')\n",
    "plt.ylabel('Number of Accidents')\n",
    "plt.show();"
   ]
  },
  {
   "cell_type": "markdown",
   "metadata": {},
   "source": [
    "### from the above bar graph cessna has the highest number of accidents as compared to other aircraft makers this might be due to large number of aircraft in opperation among other factors  as compared to other aircrafts thus less safety. "
   ]
  },
  {
   "cell_type": "markdown",
   "metadata": {},
   "source": [
    "## what was the type of weather condions when accidents took place."
   ]
  },
  {
   "cell_type": "code",
   "execution_count": 80,
   "metadata": {},
   "outputs": [
    {
     "data": {
      "text/plain": [
       "array(['UNK', 'IMC', 'VMC', nan, 'Unk'], dtype=object)"
      ]
     },
     "execution_count": 80,
     "metadata": {},
     "output_type": "execute_result"
    }
   ],
   "source": [
    "# cheking for unique weather conditions \n",
    "\n",
    "# Replace 'Unknown' with 'UNK' in the 'Weather.Condition' column (case-insensitive)\n",
    "df['Weather.Condition'] = df['Weather.Condition'].str.replace('Unknown', 'UNK', case=False)\n",
    "unique = df[\"Weather.Condition\"].unique()\n",
    "unique"
   ]
  },
  {
   "cell_type": "code",
   "execution_count": 81,
   "metadata": {},
   "outputs": [
    {
     "data": {
      "text/plain": [
       "VMC    82911\n",
       "IMC     6228\n",
       "UNK     1209\n",
       "Name: Weather.Condition, dtype: int64"
      ]
     },
     "execution_count": 81,
     "metadata": {},
     "output_type": "execute_result"
    }
   ],
   "source": [
    "df['Weather.Condition'] = df['Weather.Condition'].str.upper()\n",
    "#checking the unique counts again\n",
    "unique_counts = df2[\"Weather.Condition\"].value_counts(dropna=False)\n",
    "unique_counts"
   ]
  },
  {
   "cell_type": "markdown",
   "metadata": {},
   "source": [
    "## plot 3. Exploring relationships between weather condition and total fatalities using a bar graph"
   ]
  },
  {
   "cell_type": "code",
   "execution_count": 82,
   "metadata": {},
   "outputs": [
    {
     "data": {
      "image/png": "[encoded data removed]",
      "text/plain": [
       "<Figure size 576x432 with 1 Axes>"
      ]
     },
     "metadata": {},
     "output_type": "display_data"
    }
   ],
   "source": [
    "# Exploring relationships between weather condition and total fatalities using a bar graph\n",
    "colors = ['blue', 'green', 'brown']\n",
    "plt.figure(figsize=(8, 6))\n",
    "sns.barplot(x='Weather.Condition', y='Total.Fatal.Injuries', data=df, palette=colors, hue='Weather.Condition',dodge=False)\n",
    "plt.title('Total Fatal Injuries by Weather Condition')\n",
    "plt.xlabel('Weather Condition')\n",
    "plt.ylabel('Total Fatal Injuries')\n",
    "plt.show();"
   ]
  },
  {
   "cell_type": "markdown",
   "metadata": {},
   "source": [
    "#### from the above bargraphs most of  total fatal injuries happened during Unk weather conditions while vmc contributed the least total fatal injuries."
   ]
  },
  {
   "cell_type": "markdown",
   "metadata": {},
   "source": [
    "## Plot 4. analysing the severity of damage in varius incident across airplane crashes."
   ]
  },
  {
   "cell_type": "code",
   "execution_count": 83,
   "metadata": {},
   "outputs": [
    {
     "data": {
      "image/png": "[encoded data removed]",
      "text/plain": [
       "<Figure size 720x576 with 1 Axes>"
      ]
     },
     "metadata": {},
     "output_type": "display_data"
    }
   ],
   "source": [
    "# Visualizing the breakdown of damage across airplane crashes\n",
    "fig, ax = plt.subplots(figsize= (10,8))\n",
    "\n",
    "ax.bar(damage_count.index,damage_count.values)\n",
    "ax.set_title('Severity of Damage in varius\\nincident')\n",
    "ax.set_ylabel('Number of incidents')\n",
    "ax.set_xlabel('Severity of Damage');"
   ]
  },
  {
   "cell_type": "markdown",
   "metadata": {},
   "source": [
    "#### in the bar graph above majority of accidents  contributed to substancial damage while very few contributed to unknown severity of damage"
   ]
  },
  {
   "cell_type": "markdown",
   "metadata": {},
   "source": [
    "## Analysing the  relationship between the  aircraft damage and the  make."
   ]
  },
  {
   "cell_type": "code",
   "execution_count": 84,
   "metadata": {},
   "outputs": [
    {
     "data": {
      "text/html": [
       "<div>\n",
       "<style scoped>\n",
       "    .dataframe tbody tr th:only-of-type {\n",
       "        vertical-align: middle;\n",
       "    }\n",
       "\n",
       "    .dataframe tbody tr th {\n",
       "        vertical-align: top;\n",
       "    }\n",
       "\n",
       "    .dataframe thead th {\n",
       "        text-align: right;\n",
       "    }\n",
       "</style>\n",
       "<table border=\"1\" class=\"dataframe\">\n",
       "  <thead>\n",
       "    <tr style=\"text-align: right;\">\n",
       "      <th>Aircraft.damage</th>\n",
       "      <th>Destroyed</th>\n",
       "      <th>Minor</th>\n",
       "      <th>Substantial</th>\n",
       "      <th>Unknown</th>\n",
       "    </tr>\n",
       "    <tr>\n",
       "      <th>Make</th>\n",
       "      <th></th>\n",
       "      <th></th>\n",
       "      <th></th>\n",
       "      <th></th>\n",
       "    </tr>\n",
       "  </thead>\n",
       "  <tbody>\n",
       "    <tr>\n",
       "      <th>Cessna</th>\n",
       "      <td>5315</td>\n",
       "      <td>398</td>\n",
       "      <td>21745</td>\n",
       "      <td>40</td>\n",
       "    </tr>\n",
       "    <tr>\n",
       "      <th>Piper</th>\n",
       "      <td>3497</td>\n",
       "      <td>214</td>\n",
       "      <td>11358</td>\n",
       "      <td>17</td>\n",
       "    </tr>\n",
       "    <tr>\n",
       "      <th>Beech</th>\n",
       "      <td>1617</td>\n",
       "      <td>178</td>\n",
       "      <td>3641</td>\n",
       "      <td>5</td>\n",
       "    </tr>\n",
       "    <tr>\n",
       "      <th>Bell</th>\n",
       "      <td>734</td>\n",
       "      <td>51</td>\n",
       "      <td>1975</td>\n",
       "      <td>5</td>\n",
       "    </tr>\n",
       "    <tr>\n",
       "      <th>Boeing</th>\n",
       "      <td>470</td>\n",
       "      <td>782</td>\n",
       "      <td>1497</td>\n",
       "      <td>13</td>\n",
       "    </tr>\n",
       "    <tr>\n",
       "      <th>Mooney</th>\n",
       "      <td>379</td>\n",
       "      <td>26</td>\n",
       "      <td>957</td>\n",
       "      <td>3</td>\n",
       "    </tr>\n",
       "    <tr>\n",
       "      <th>Robinson</th>\n",
       "      <td>288</td>\n",
       "      <td>8</td>\n",
       "      <td>948</td>\n",
       "      <td>4</td>\n",
       "    </tr>\n",
       "    <tr>\n",
       "      <th>Grumman</th>\n",
       "      <td>308</td>\n",
       "      <td>18</td>\n",
       "      <td>856</td>\n",
       "      <td>0</td>\n",
       "    </tr>\n",
       "    <tr>\n",
       "      <th>Bellanca</th>\n",
       "      <td>235</td>\n",
       "      <td>8</td>\n",
       "      <td>810</td>\n",
       "      <td>0</td>\n",
       "    </tr>\n",
       "    <tr>\n",
       "      <th>Hughes</th>\n",
       "      <td>192</td>\n",
       "      <td>12</td>\n",
       "      <td>739</td>\n",
       "      <td>0</td>\n",
       "    </tr>\n",
       "  </tbody>\n",
       "</table>\n",
       "</div>"
      ],
      "text/plain": [
       "Aircraft.damage  Destroyed  Minor  Substantial  Unknown\n",
       "Make                                                   \n",
       "Cessna                5315    398        21745       40\n",
       "Piper                 3497    214        11358       17\n",
       "Beech                 1617    178         3641        5\n",
       "Bell                   734     51         1975        5\n",
       "Boeing                 470    782         1497       13\n",
       "Mooney                 379     26          957        3\n",
       "Robinson               288      8          948        4\n",
       "Grumman                308     18          856        0\n",
       "Bellanca               235      8          810        0\n",
       "Hughes                 192     12          739        0"
      ]
     },
     "execution_count": 84,
     "metadata": {},
     "output_type": "execute_result"
    }
   ],
   "source": [
    "#Group make and aircraft damage data to create a bar chart of damage across airplane makes\n",
    "damage_by_make = df2.groupby(['Make','Aircraft.damage']).size().unstack(fill_value=0)\n",
    "damage_by_make['Total']= damage_by_make.sum(axis=1)\n",
    "damage_by_make_sorted = damage_by_make.sort_values(by='Total',ascending=False)\n",
    "\n",
    "# Filter to the top 10 \n",
    "top_10_damage_by_make = damage_by_make_sorted.head(10)\n",
    "top_10_damage_by_make = top_10_damage_by_make.drop(columns=['Total'])\n",
    "top_10_damage_by_make"
   ]
  },
  {
   "cell_type": "code",
   "execution_count": 85,
   "metadata": {},
   "outputs": [
    {
     "name": "stdout",
     "output_type": "stream",
     "text": [
      "Aircraft.damage  Destroyed  Substantial      Minor\n",
      "Make                                              \n",
      "Cessna           19.328678    79.078478   1.447378\n",
      "Piper            23.180432    75.288347   1.418534\n",
      "Beech            29.718802    66.917846   3.271457\n",
      "Bell             26.546112    71.428571   1.844485\n",
      "Boeing           17.016655    54.199855  28.312817\n",
      "Mooney           27.765568    70.109890   1.904762\n",
      "Robinson         23.076923    75.961538   0.641026\n",
      "Grumman          26.057530    72.419628   1.522843\n",
      "Bellanca         22.317189    76.923077   0.759734\n",
      "Hughes           20.360551    78.366914   1.272534\n"
     ]
    }
   ],
   "source": [
    "# Converting values into percentages.\n",
    "# Find the sum of the row\n",
    "row_sums = top_10_damage_by_make.sum(axis=1)\n",
    "# Divide each value by its row sum and multiply by 100\n",
    "top_10_damage_by_make_percentage = top_10_damage_by_make.div(row_sums, axis=0) * 100\n",
    "column_order = ['Destroyed','Substantial','Minor']\n",
    "top_10_damage_by_make_percentage = top_10_damage_by_make_percentage.loc[:,column_order]\n",
    "print(top_10_damage_by_make_percentage)"
   ]
  },
  {
   "cell_type": "markdown",
   "metadata": {},
   "source": [
    "## Plot 5. The top 10 airplane makes by severity of damage."
   ]
  },
  {
   "cell_type": "code",
   "execution_count": 86,
   "metadata": {},
   "outputs": [
    {
     "data": {
      "image/png": "[encoded data removed]",
      "text/plain": [
       "<Figure size 864x576 with 1 Axes>"
      ]
     },
     "metadata": {},
     "output_type": "display_data"
    }
   ],
   "source": [
    "#top 10 airplane makes by severity of damage\n",
    "top_10_damage_by_make_percentage.plot(kind='bar',stacked=True,figsize=(12,8))\n",
    "plt.legend(bbox_to_anchor=(1.29,1),loc='upper right')\n",
    "plt.show()"
   ]
  },
  {
   "cell_type": "markdown",
   "metadata": {},
   "source": [
    "####  from the above bar graph its evident that boeing mostly suffer minor damanges when crushed as compared to the rest."
   ]
  },
  {
   "cell_type": "markdown",
   "metadata": {},
   "source": [
    "##  figuring out the relationship between number of  engines and airplane damage.\n"
   ]
  },
  {
   "cell_type": "code",
   "execution_count": 87,
   "metadata": {},
   "outputs": [
    {
     "data": {
      "text/html": [
       "<div>\n",
       "<style scoped>\n",
       "    .dataframe tbody tr th:only-of-type {\n",
       "        vertical-align: middle;\n",
       "    }\n",
       "\n",
       "    .dataframe tbody tr th {\n",
       "        vertical-align: top;\n",
       "    }\n",
       "\n",
       "    .dataframe thead th {\n",
       "        text-align: right;\n",
       "    }\n",
       "</style>\n",
       "<table border=\"1\" class=\"dataframe\">\n",
       "  <thead>\n",
       "    <tr style=\"text-align: right;\">\n",
       "      <th>Aircraft.damage</th>\n",
       "      <th>Destroyed</th>\n",
       "      <th>Minor</th>\n",
       "      <th>Substantial</th>\n",
       "    </tr>\n",
       "    <tr>\n",
       "      <th>Number.of.Engines</th>\n",
       "      <th></th>\n",
       "      <th></th>\n",
       "      <th></th>\n",
       "    </tr>\n",
       "  </thead>\n",
       "  <tbody>\n",
       "    <tr>\n",
       "      <th>1.0</th>\n",
       "      <td>15682</td>\n",
       "      <td>1243</td>\n",
       "      <td>58850</td>\n",
       "    </tr>\n",
       "    <tr>\n",
       "      <th>2.0</th>\n",
       "      <td>3599</td>\n",
       "      <td>1294</td>\n",
       "      <td>7247</td>\n",
       "    </tr>\n",
       "    <tr>\n",
       "      <th>0.0</th>\n",
       "      <td>246</td>\n",
       "      <td>94</td>\n",
       "      <td>981</td>\n",
       "    </tr>\n",
       "    <tr>\n",
       "      <th>3.0</th>\n",
       "      <td>109</td>\n",
       "      <td>211</td>\n",
       "      <td>191</td>\n",
       "    </tr>\n",
       "    <tr>\n",
       "      <th>4.0</th>\n",
       "      <td>120</td>\n",
       "      <td>158</td>\n",
       "      <td>185</td>\n",
       "    </tr>\n",
       "    <tr>\n",
       "      <th>8.0</th>\n",
       "      <td>0</td>\n",
       "      <td>0</td>\n",
       "      <td>4</td>\n",
       "    </tr>\n",
       "    <tr>\n",
       "      <th>6.0</th>\n",
       "      <td>0</td>\n",
       "      <td>0</td>\n",
       "      <td>1</td>\n",
       "    </tr>\n",
       "  </tbody>\n",
       "</table>\n",
       "</div>"
      ],
      "text/plain": [
       "Aircraft.damage    Destroyed  Minor  Substantial\n",
       "Number.of.Engines                               \n",
       "1.0                    15682   1243        58850\n",
       "2.0                     3599   1294         7247\n",
       "0.0                      246     94          981\n",
       "3.0                      109    211          191\n",
       "4.0                      120    158          185\n",
       "8.0                        0      0            4\n",
       "6.0                        0      0            1"
      ]
     },
     "execution_count": 87,
     "metadata": {},
     "output_type": "execute_result"
    }
   ],
   "source": [
    "# Grouping number of engines and airplane damage.\n",
    "num_engine_damage = df2.groupby('Number.of.Engines')['Aircraft.damage'].value_counts().unstack(fill_value=0)\n",
    "num_engine_damage['Total'] = num_engine_damage.sum(axis=1)\n",
    "num_engine_damage_sort =num_engine_damage.sort_values(by='Total', ascending = False)\n",
    "num_engine_damage_updated=num_engine_damage_sort.drop(columns=['Total','Unknown'])\n",
    "num_engine_damage_updated"
   ]
  },
  {
   "cell_type": "code",
   "execution_count": 88,
   "metadata": {},
   "outputs": [
    {
     "data": {
      "text/html": [
       "<div>\n",
       "<style scoped>\n",
       "    .dataframe tbody tr th:only-of-type {\n",
       "        vertical-align: middle;\n",
       "    }\n",
       "\n",
       "    .dataframe tbody tr th {\n",
       "        vertical-align: top;\n",
       "    }\n",
       "\n",
       "    .dataframe thead th {\n",
       "        text-align: right;\n",
       "    }\n",
       "</style>\n",
       "<table border=\"1\" class=\"dataframe\">\n",
       "  <thead>\n",
       "    <tr style=\"text-align: right;\">\n",
       "      <th>Aircraft.damage</th>\n",
       "      <th>Destroyed</th>\n",
       "      <th>Minor</th>\n",
       "      <th>Substantial</th>\n",
       "    </tr>\n",
       "    <tr>\n",
       "      <th>Number.of.Engines</th>\n",
       "      <th></th>\n",
       "      <th></th>\n",
       "      <th></th>\n",
       "    </tr>\n",
       "  </thead>\n",
       "  <tbody>\n",
       "    <tr>\n",
       "      <th>1.0</th>\n",
       "      <td>20.695480</td>\n",
       "      <td>1.640383</td>\n",
       "      <td>77.664137</td>\n",
       "    </tr>\n",
       "    <tr>\n",
       "      <th>2.0</th>\n",
       "      <td>29.645799</td>\n",
       "      <td>10.658979</td>\n",
       "      <td>59.695222</td>\n",
       "    </tr>\n",
       "    <tr>\n",
       "      <th>0.0</th>\n",
       "      <td>18.622256</td>\n",
       "      <td>7.115821</td>\n",
       "      <td>74.261923</td>\n",
       "    </tr>\n",
       "    <tr>\n",
       "      <th>3.0</th>\n",
       "      <td>21.330724</td>\n",
       "      <td>41.291585</td>\n",
       "      <td>37.377691</td>\n",
       "    </tr>\n",
       "    <tr>\n",
       "      <th>4.0</th>\n",
       "      <td>25.917927</td>\n",
       "      <td>34.125270</td>\n",
       "      <td>39.956803</td>\n",
       "    </tr>\n",
       "    <tr>\n",
       "      <th>8.0</th>\n",
       "      <td>0.000000</td>\n",
       "      <td>0.000000</td>\n",
       "      <td>100.000000</td>\n",
       "    </tr>\n",
       "    <tr>\n",
       "      <th>6.0</th>\n",
       "      <td>0.000000</td>\n",
       "      <td>0.000000</td>\n",
       "      <td>100.000000</td>\n",
       "    </tr>\n",
       "  </tbody>\n",
       "</table>\n",
       "</div>"
      ],
      "text/plain": [
       "Aircraft.damage    Destroyed      Minor  Substantial\n",
       "Number.of.Engines                                   \n",
       "1.0                20.695480   1.640383    77.664137\n",
       "2.0                29.645799  10.658979    59.695222\n",
       "0.0                18.622256   7.115821    74.261923\n",
       "3.0                21.330724  41.291585    37.377691\n",
       "4.0                25.917927  34.125270    39.956803\n",
       "8.0                 0.000000   0.000000   100.000000\n",
       "6.0                 0.000000   0.000000   100.000000"
      ]
     },
     "execution_count": 88,
     "metadata": {},
     "output_type": "execute_result"
    }
   ],
   "source": [
    "# Changing table results into percentage\n",
    "Total_num = num_engine_damage_updated.sum(axis=1)\n",
    "num_engine_total_updated = (num_engine_damage_updated.div(Total_num,axis=0))*100\n",
    "num_engine_total_updated"
   ]
  },
  {
   "cell_type": "markdown",
   "metadata": {},
   "source": [
    "### plot 6. ploting the relationshop between Percentage of Aircraft Damage and Number of Engines."
   ]
  },
  {
   "cell_type": "code",
   "execution_count": 89,
   "metadata": {},
   "outputs": [
    {
     "data": {
      "image/png": "[encoded data removed]",
      "text/plain": [
       "<Figure size 720x576 with 1 Axes>"
      ]
     },
     "metadata": {},
     "output_type": "display_data"
    }
   ],
   "source": [
    "# Visaulize the types of injuries sustained compared to different engine types\n",
    "ax= num_engine_total_updated.plot(kind='bar',stacked='True',figsize=(10,8))\n",
    "ax.legend(loc='center left', bbox_to_anchor=(1, .85), ncol=1)\n",
    "plt.title('relationship between aircraft damage and\\nNnumber of Engines',c='blue')\n",
    "plt.xlabel('Number of Engines')\n",
    "plt.ylabel('Percentage of Aircraft Damage');"
   ]
  },
  {
   "cell_type": "markdown",
   "metadata": {},
   "source": [
    "#### Airclafts with 3 engines are the the most safest with the highest percentage of minor damage during accidents as compared to other as seen in the above bargraphs."
   ]
  },
  {
   "cell_type": "markdown",
   "metadata": {},
   "source": [
    "**CONCLUSION**"
   ]
  },
  {
   "cell_type": "markdown",
   "metadata": {},
   "source": [
    "Based on the comprehensive analysis and exploratory data analysis (EDA) conducted, the following conclusions can be drawn:  \n",
    "\n",
    "1.Airclafts with 3 engines are the the most safest with the highest percentage of minor damage during accidents as compared to other as seen in the above bargraphs.   \n",
    "2.Boeing mostly suffer minor damanges when crushed as compared to the rest to the rest aircrafts. \n",
    "3.most of total fatal injuries happened during Unk weather conditions while vmc contributed the least total fatal injuries.\n",
    "4.majority of accidents contributed to substancial damage while very few contributed to unknown severity of damage\n"
   ]
  }
 ],
 "metadata": {
  "kernelspec": {
   "display_name": "Python 3",
   "language": "python",
   "name": "python3"
  },
  "language_info": {
   "codemirror_mode": {
    "name": "ipython",
    "version": 3
   },
   "file_extension": ".py",
   "mimetype": "text/x-python",
   "name": "python",
   "nbconvert_exporter": "python",
   "pygments_lexer": "ipython3",
   "version": "3.8.5"
  }
 },
 "nbformat": 4,
 "nbformat_minor": 2
}
